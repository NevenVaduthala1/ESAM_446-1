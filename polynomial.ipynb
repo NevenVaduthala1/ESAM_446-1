{
  "nbformat": 4,
  "nbformat_minor": 0,
  "metadata": {
    "colab": {
      "provenance": [],
      "authorship_tag": "ABX9TyNhDbBIvpSszBgUY5WydP8x",
      "include_colab_link": true
    },
    "kernelspec": {
      "name": "python3",
      "display_name": "Python 3"
    },
    "language_info": {
      "name": "python"
    }
  },
  "cells": [
    {
      "cell_type": "markdown",
      "metadata": {
        "id": "view-in-github",
        "colab_type": "text"
      },
      "source": [
        "<a href=\"https://colab.research.google.com/github/NevenVaduthala1/ESAM_446-1/blob/main/polynomial.ipynb\" target=\"_parent\"><img src=\"https://colab.research.google.com/assets/colab-badge.svg\" alt=\"Open In Colab\"/></a>"
      ]
    },
    {
      "cell_type": "code",
      "execution_count": 429,
      "metadata": {
        "id": "r4ZnYHpAgqCc"
      },
      "outputs": [],
      "source": [
        "import math\n",
        "import numpy as np\n",
        "import scipy as sp\n",
        "from sympy import gcd\n",
        "from sympy import gcd, Poly, symbols, simplify\n",
        "import re"
      ]
    },
    {
      "cell_type": "code",
      "source": [],
      "metadata": {
        "id": "K3zexvmBx6GX"
      },
      "execution_count": null,
      "outputs": []
    },
    {
      "cell_type": "code",
      "source": [
        "x = symbols('x')  # Define the variable for the polynomial\n",
        "\n",
        "class Polynomial:\n",
        "    def __init__(self, coefficients):\n",
        "        self.coefficients = np.array(coefficients, dtype=int)\n",
        "        self.order = len(coefficients) - 1\n",
        "\n",
        "    @staticmethod\n",
        "    def from_string(s):\n",
        "        # Adding * between coefficient and variable if it's missing\n",
        "        s = re.sub(r'(\\d)([a-z])', r'\\1*\\2', s)\n",
        "\n",
        "        # Creating a SymPy polynomial from the string\n",
        "        polynomial = Poly(s, x)\n",
        "\n",
        "        # Extracting the coefficients as a list and reversing it to have them in the correct order\n",
        "        coefficients = polynomial.all_coeffs()[::-1]\n",
        "\n",
        "        # If the coefficients list is empty, it means the polynomial is a zero polynomial\n",
        "        if len(coefficients) == 0:\n",
        "            return Polynomial([0])  # Returning a zero polynomial\n",
        "\n",
        "        # Converting coefficients to integers and creating a Polynomial object\n",
        "        coefficients = [int(coeff) for coeff in coefficients]\n",
        "        return Polynomial(coefficients)\n",
        "\n",
        "\n",
        "\n",
        "\n",
        "    def __repr__(self):\n",
        "        terms = []\n",
        "        for i, coef in reversed(list(enumerate(self.coefficients))):\n",
        "            if coef:\n",
        "                if i == 0:\n",
        "                    terms.append(str(coef))\n",
        "                elif i == 1:\n",
        "                    term = f\"{coef}*x\" if coef != 1 else \"x\"\n",
        "                    term = term if coef != -1 else \"-x\"\n",
        "                    terms.append(term)\n",
        "                else:\n",
        "                    term = f\"{coef}*x^{i}\" if coef != 1 else f\"x^{i}\"\n",
        "                    term = term if coef != -1 else f\"-x^{i}\"\n",
        "                    terms.append(term)\n",
        "\n",
        "        return ' + '.join(terms).replace('+ -', '- ')\n",
        "\n",
        "\n",
        "\n",
        "\n",
        "    def __add__(self, other):\n",
        "        max_order = max(self.order, other.order)\n",
        "        result = np.zeros(max_order + 1, dtype=int)\n",
        "        for i in range(max_order + 1):\n",
        "            result[i] = self.coefficients[i] if i <= self.order else 0\n",
        "            result[i] += other.coefficients[i] if i <= other.order else 0\n",
        "        return Polynomial(result)\n",
        "\n",
        "    def __sub__(self, other):\n",
        "        max_order = max(self.order, other.order)\n",
        "        result = np.zeros(max_order + 1, dtype=int)\n",
        "        for i in range(max_order + 1):\n",
        "            result[i] = self.coefficients[i] if i <= self.order else 0\n",
        "            result[i] -= other.coefficients[i] if i <= other.order else 0\n",
        "        return Polynomial(result)\n",
        "\n",
        "    def __mul__(self, other):\n",
        "        order = self.order + other.order\n",
        "        result = np.zeros(order + 1, dtype=int)\n",
        "        for i in range(self.order + 1):\n",
        "            for j in range(other.order + 1):\n",
        "                result[i+j] += self.coefficients[i] * other.coefficients[j]\n",
        "        return Polynomial(result)\n",
        "\n",
        "    def __eq__(self, other):\n",
        "        return np.array_equal(self.coefficients, other.coefficients)\n",
        "\n",
        "    def to_sympy_poly(self):\n",
        "        return Poly(self.coefficients[::-1], x)\n",
        "\n",
        "    def __truediv__(self, other):\n",
        "        if other.is_zero():\n",
        "            raise ZeroDivisionError(\"Cannot divide by zero polynomial\")\n",
        "        return RationalPolynomial(self, other)\n",
        "\n",
        "    def is_zero(self):\n",
        "        return np.all(self.coefficients == 0)\n",
        "\n",
        "\n",
        "\n",
        "x = symbols('x')\n",
        "\n",
        "class RationalPolynomial:\n",
        "    def __init__(self, numerator, denominator):\n",
        "        self.numerator = numerator  # These are now SymPy expressions\n",
        "        self.denominator = denominator\n",
        "        self.simplify()\n",
        "\n",
        "    def simplify(self):\n",
        "        gcd_poly = gcd(Poly(self.numerator, x), Poly(self.denominator, x))\n",
        "        self.numerator = simplify(self.numerator / gcd_poly.as_expr())\n",
        "        self.denominator = simplify(self.denominator / gcd_poly.as_expr())\n",
        "\n",
        "    @staticmethod\n",
        "    def from_string(s):\n",
        "        numerator_str, denominator_str = map(str.strip, s.split(\"/\"))\n",
        "        numerator = simplify(numerator_str.strip(\"()\"))\n",
        "        denominator = simplify(denominator_str.strip(\"()\"))\n",
        "        return RationalPolynomial(numerator, denominator)\n",
        "\n",
        "    def __repr__(self):\n",
        "        num_str = str(self.numerator).replace('**', '^')\n",
        "        den_str = str(self.denominator).replace('**', '^')\n",
        "        return f\"({num_str})/({den_str})\"\n",
        "\n",
        "    def __add__(self, other):\n",
        "        # Implementation of the addition operation\n",
        "        numerator = self.numerator * other.denominator + other.numerator * self.denominator\n",
        "        denominator = self.denominator * other.denominator\n",
        "        return RationalPolynomial(numerator, denominator)\n",
        "\n",
        "    def __sub__(self, other):\n",
        "        # Implementation of the subtraction operation\n",
        "        numerator = self.numerator * other.denominator - other.numerator * self.denominator\n",
        "        denominator = self.denominator * other.denominator\n",
        "        return RationalPolynomial(numerator, denominator)\n",
        "\n",
        "    def __mul__(self, other):\n",
        "        # Implementation of the multiplication operation\n",
        "        return RationalPolynomial(self.numerator * other.numerator, self.denominator * other.denominator)\n",
        "\n",
        "    def __truediv__(self, other):\n",
        "        # Implementation of the division operation\n",
        "        return RationalPolynomial(self.numerator * other.denominator, self.denominator * other.numerator)\n",
        "\n",
        "    def __eq__(self, other):\n",
        "        # Implementation of the equality check operation\n",
        "        return self.numerator * other.denominator == self.denominator * other.numerator\n",
        "\n",
        "\n",
        "\n",
        "\n",
        "\n",
        "\n"
      ],
      "metadata": {
        "id": "E7sBAyc2joKT"
      },
      "execution_count": 438,
      "outputs": []
    },
    {
      "cell_type": "code",
      "source": [
        "a = Polynomial.from_string(\"-4 + x^2\")\n",
        "b = Polynomial.from_string(\"x^2 - 4\")\n",
        "c = Polynomial.from_string(\"-2 - x + 9*x^2\")\n",
        "r1 = RationalPolynomial.from_string(\"(2 + x)/(-1 + x + 2*x^3)\")\n",
        "r2 = RationalPolynomial.from_string(\"(x + 1)/(x^2 - 1)\")\n",
        "\n",
        "print(r1)\n",
        "print(r2)"
      ],
      "metadata": {
        "colab": {
          "base_uri": "https://localhost:8080/"
        },
        "id": "90zBz9ZcE2Im",
        "outputId": "08c18a44-79ce-4417-d9bb-968200f9d5e3"
      },
      "execution_count": 439,
      "outputs": [
        {
          "output_type": "stream",
          "name": "stdout",
          "text": [
            "(x + 2)/(2*x^3 + x - 1)\n",
            "(1)/(x - 1)\n"
          ]
        }
      ]
    }
  ]
}